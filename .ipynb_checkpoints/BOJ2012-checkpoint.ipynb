{
 "cells": [
  {
   "cell_type": "code",
   "execution_count": null,
   "metadata": {},
   "outputs": [],
   "source": [
    "n = input()\n",
    "\n",
    "predict = []\n",
    "check_once = []\n",
    "estimate=[]\n",
    "\n",
    "arr1 = list()\n",
    "arr2 = list()\n",
    "\n",
    "for i in range(1,int(n)+1):\n",
    "    predict[i] = int(input())\n",
    "    if(check_once[predict[i]]==0):\n",
    "        check_once[predict[i]] = 1\n",
    "        estimate[i] = predict[i]\n",
    "\n",
    "for i in range(1,int(n)+1):\n",
    "    if(check_once[i]==0):\n",
    "        arr1.append(i)\n",
    "    if(estimate[i]==0):\n",
    "        arr2.append(i)\n",
    "\n",
    "arr1.sort()\n",
    "arr2.sort()\n",
    "\n",
    "result =0\n",
    "\n",
    "for i in range(0,len(arr1)):\n",
    "    result += abs(arr1[i]-arr2[i])\n",
    "    \n",
    "print(result)"
   ]
  },
  {
   "cell_type": "code",
   "execution_count": null,
   "metadata": {},
   "outputs": [],
   "source": []
  }
 ],
 "metadata": {
  "kernelspec": {
   "display_name": "Python 3",
   "language": "python",
   "name": "python3"
  },
  "language_info": {
   "codemirror_mode": {
    "name": "ipython",
    "version": 3
   },
   "file_extension": ".py",
   "mimetype": "text/x-python",
   "name": "python",
   "nbconvert_exporter": "python",
   "pygments_lexer": "ipython3",
   "version": "3.7.3"
  }
 },
 "nbformat": 4,
 "nbformat_minor": 2
}
